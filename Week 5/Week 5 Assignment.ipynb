{
 "cells": [
  {
   "cell_type": "markdown",
   "id": "b790c02d-5f9b-453f-9945-1eade4ddbf2d",
   "metadata": {},
   "source": [
    "# Week 5\n",
    "## Shakhyry Walsh\n",
    "### IS 362\n",
    "#### Professor Larry Cohen"
   ]
  },
  {
   "cell_type": "code",
   "execution_count": 5,
   "id": "5bdc2111-9062-4474-9d4e-642cbbcaf33f",
   "metadata": {},
   "outputs": [
    {
     "data": {
      "text/plain": [
       "((1458, 8), (26115, 15))"
      ]
     },
     "execution_count": 5,
     "metadata": {},
     "output_type": "execute_result"
    }
   ],
   "source": [
    "airports = pd.read_csv(DATA_DIR / \"airports.csv\")\n",
    "weather  = pd.read_csv(DATA_DIR / \"weather.csv\")\n",
    "\n",
    "airports.shape, weather.shape\n",
    "\n"
   ]
  },
  {
   "cell_type": "markdown",
   "id": "6a0f6830-5bf0-4f40-bb2b-7a2a201d7753",
   "metadata": {},
   "source": [
    "## Data files\n",
    "airports.csv, weather.csv, airlines.csv, planes.csv"
   ]
  },
  {
   "cell_type": "code",
   "execution_count": 6,
   "id": "903790d8-41f8-4230-aacb-13d0acd69b81",
   "metadata": {},
   "outputs": [
    {
     "data": {
      "text/plain": [
       "(   faa                           name       lat        lon   alt  tz dst  \\\n",
       " 0  04G              Lansdowne Airport 41.130472 -80.619583  1044  -5   A   \n",
       " 1  06A  Moton Field Municipal Airport 32.460572 -85.680028   264  -6   A   \n",
       " 2  06C            Schaumburg Regional 41.989341 -88.101243   801  -6   A   \n",
       " \n",
       "               tzone  \n",
       " 0  America/New_York  \n",
       " 1   America/Chicago  \n",
       " 2   America/Chicago  ,\n",
       "   origin  year  month  day  hour      temp      dewp     humid   wind_dir  \\\n",
       " 0    EWR  2013      1    1     1 39.020000 26.060000 59.370000 270.000000   \n",
       " 1    EWR  2013      1    1     2 39.020000 26.960000 61.630000 250.000000   \n",
       " 2    EWR  2013      1    1     3 39.020000 28.040000 64.430000 240.000000   \n",
       " \n",
       "    wind_speed  wind_gust   precip    pressure     visib             time_hour  \n",
       " 0   10.357020        NaN 0.000000 1012.000000 10.000000  2013-01-01T06:00:00Z  \n",
       " 1    8.055460        NaN 0.000000 1012.300000 10.000000  2013-01-01T07:00:00Z  \n",
       " 2   11.507800        NaN 0.000000 1012.500000 10.000000  2013-01-01T08:00:00Z  )"
      ]
     },
     "execution_count": 6,
     "metadata": {},
     "output_type": "execute_result"
    }
   ],
   "source": [
    "airports.head(3), weather.head(3)\n"
   ]
  },
  {
   "cell_type": "code",
   "execution_count": 7,
   "id": "d13d4287-fd3c-4d01-bec9-04958841daf6",
   "metadata": {},
   "outputs": [
    {
     "data": {
      "text/plain": [
       "(1451,\n",
       "    faa                           name       lat        lon   alt  tz dst  \\\n",
       " 0  04G              Lansdowne Airport 41.130472 -80.619583  1044  -5   A   \n",
       " 1  06A  Moton Field Municipal Airport 32.460572 -85.680028   264  -6   A   \n",
       " 2  06C            Schaumburg Regional 41.989341 -88.101243   801  -6   A   \n",
       " \n",
       "               tzone  \n",
       " 0  America/New_York  \n",
       " 1   America/Chicago  \n",
       " 2   America/Chicago  )"
      ]
     },
     "execution_count": 7,
     "metadata": {},
     "output_type": "execute_result"
    }
   ],
   "source": [
    "us_tzones = {\n",
    "    \"America/Anchorage\",\n",
    "    \"America/Chicago\",\n",
    "    \"America/Denver\",\n",
    "    \"America/Los_Angeles\",\n",
    "    \"America/New_York\",\n",
    "    \"America/Phoenix\",\n",
    "    \"Pacific/Honolulu\",\n",
    "}\n",
    "us_airports = airports[airports[\"tzone\"].isin(us_tzones)].copy()\n",
    "len(us_airports), us_airports.head(3)\n"
   ]
  },
  {
   "cell_type": "code",
   "execution_count": 8,
   "id": "9714f294-0559-4518-ab02-e5e96c3dba86",
   "metadata": {},
   "outputs": [
    {
     "data": {
      "text/html": [
       "<div>\n",
       "<style scoped>\n",
       "    .dataframe tbody tr th:only-of-type {\n",
       "        vertical-align: middle;\n",
       "    }\n",
       "\n",
       "    .dataframe tbody tr th {\n",
       "        vertical-align: top;\n",
       "    }\n",
       "\n",
       "    .dataframe thead th {\n",
       "        text-align: right;\n",
       "    }\n",
       "</style>\n",
       "<table border=\"1\" class=\"dataframe\">\n",
       "  <thead>\n",
       "    <tr style=\"text-align: right;\">\n",
       "      <th></th>\n",
       "      <th>faa</th>\n",
       "      <th>name</th>\n",
       "      <th>lat</th>\n",
       "      <th>lon</th>\n",
       "      <th>tzone</th>\n",
       "    </tr>\n",
       "  </thead>\n",
       "  <tbody>\n",
       "    <tr>\n",
       "      <th>0</th>\n",
       "      <td>BRW</td>\n",
       "      <td>Wiley Post Will Rogers Mem</td>\n",
       "      <td>71.285446</td>\n",
       "      <td>-156.766003</td>\n",
       "      <td>America/Anchorage</td>\n",
       "    </tr>\n",
       "    <tr>\n",
       "      <th>1</th>\n",
       "      <td>AIN</td>\n",
       "      <td>Wainwright Airport</td>\n",
       "      <td>70.638056</td>\n",
       "      <td>-159.994722</td>\n",
       "      <td>America/Anchorage</td>\n",
       "    </tr>\n",
       "    <tr>\n",
       "      <th>2</th>\n",
       "      <td>K03</td>\n",
       "      <td>Wainwright As</td>\n",
       "      <td>70.613378</td>\n",
       "      <td>-159.860350</td>\n",
       "      <td>America/Anchorage</td>\n",
       "    </tr>\n",
       "    <tr>\n",
       "      <th>3</th>\n",
       "      <td>ATK</td>\n",
       "      <td>Atqasuk Edward Burnell Sr Memorial Airport</td>\n",
       "      <td>70.467300</td>\n",
       "      <td>-157.436000</td>\n",
       "      <td>America/Anchorage</td>\n",
       "    </tr>\n",
       "    <tr>\n",
       "      <th>4</th>\n",
       "      <td>UUK</td>\n",
       "      <td>Ugnu-Kuparuk Airport</td>\n",
       "      <td>70.330833</td>\n",
       "      <td>-149.597500</td>\n",
       "      <td>America/Anchorage</td>\n",
       "    </tr>\n",
       "  </tbody>\n",
       "</table>\n",
       "</div>"
      ],
      "text/plain": [
       "   faa                                        name       lat         lon  \\\n",
       "0  BRW                  Wiley Post Will Rogers Mem 71.285446 -156.766003   \n",
       "1  AIN                          Wainwright Airport 70.638056 -159.994722   \n",
       "2  K03                               Wainwright As 70.613378 -159.860350   \n",
       "3  ATK  Atqasuk Edward Burnell Sr Memorial Airport 70.467300 -157.436000   \n",
       "4  UUK                        Ugnu-Kuparuk Airport 70.330833 -149.597500   \n",
       "\n",
       "               tzone  \n",
       "0  America/Anchorage  \n",
       "1  America/Anchorage  \n",
       "2  America/Anchorage  \n",
       "3  America/Anchorage  \n",
       "4  America/Anchorage  "
      ]
     },
     "execution_count": 8,
     "metadata": {},
     "output_type": "execute_result"
    }
   ],
   "source": [
    "top_north = (\n",
    "    us_airports.sort_values(\"lat\", ascending=False)\n",
    "    [[\"faa\",\"name\",\"lat\",\"lon\",\"tzone\"]]\n",
    "    .head(5)\n",
    "    .reset_index(drop=True)\n",
    ")\n",
    "top_north\n"
   ]
  },
  {
   "cell_type": "markdown",
   "id": "c0cd0369-6d5e-4224-b01e-c5919c7aa581",
   "metadata": {},
   "source": [
    "## 1. What is the northernmost airport in the United States?\n",
    "\n",
    "**Answer, Wiley Post Will Rogers Memorial Airport, BRW, Utqiagvik Alaska, latitude about 71.285 N**\n",
    "\n",
    "**Why** I filtered airports to United States time zones, then sorted by latitude and reviewed the top five candidates, BRW appears first\n",
    "\n",
    "**Assumption**\n",
    "Time zone is a practical proxy for United States and territories in this dataset"
   ]
  },
  {
   "cell_type": "code",
   "execution_count": 9,
   "id": "25cf0a6a-24de-4a1c-afdc-785d6d69747a",
   "metadata": {},
   "outputs": [
    {
     "data": {
      "text/html": [
       "<div>\n",
       "<style scoped>\n",
       "    .dataframe tbody tr th:only-of-type {\n",
       "        vertical-align: middle;\n",
       "    }\n",
       "\n",
       "    .dataframe tbody tr th {\n",
       "        vertical-align: top;\n",
       "    }\n",
       "\n",
       "    .dataframe thead th {\n",
       "        text-align: right;\n",
       "    }\n",
       "</style>\n",
       "<table border=\"1\" class=\"dataframe\">\n",
       "  <thead>\n",
       "    <tr style=\"text-align: right;\">\n",
       "      <th></th>\n",
       "      <th>faa</th>\n",
       "      <th>name</th>\n",
       "      <th>lat</th>\n",
       "      <th>lon</th>\n",
       "      <th>tzone</th>\n",
       "    </tr>\n",
       "  </thead>\n",
       "  <tbody>\n",
       "    <tr>\n",
       "      <th>0</th>\n",
       "      <td>SYA</td>\n",
       "      <td>Eareckson As</td>\n",
       "      <td>52.712275</td>\n",
       "      <td>174.113620</td>\n",
       "      <td>America/Anchorage</td>\n",
       "    </tr>\n",
       "    <tr>\n",
       "      <th>1</th>\n",
       "      <td>EPM</td>\n",
       "      <td>Eastport Municipal Airport</td>\n",
       "      <td>44.910111</td>\n",
       "      <td>-67.012694</td>\n",
       "      <td>America/New_York</td>\n",
       "    </tr>\n",
       "    <tr>\n",
       "      <th>2</th>\n",
       "      <td>HUL</td>\n",
       "      <td>Houlton Intl</td>\n",
       "      <td>46.123083</td>\n",
       "      <td>-67.792056</td>\n",
       "      <td>America/New_York</td>\n",
       "    </tr>\n",
       "    <tr>\n",
       "      <th>3</th>\n",
       "      <td>CAR</td>\n",
       "      <td>Caribou Muni</td>\n",
       "      <td>46.871500</td>\n",
       "      <td>-68.017917</td>\n",
       "      <td>America/New_York</td>\n",
       "    </tr>\n",
       "    <tr>\n",
       "      <th>4</th>\n",
       "      <td>PQI</td>\n",
       "      <td>Northern Maine Rgnl At Presque Isle</td>\n",
       "      <td>46.688958</td>\n",
       "      <td>-68.044797</td>\n",
       "      <td>America/New_York</td>\n",
       "    </tr>\n",
       "  </tbody>\n",
       "</table>\n",
       "</div>"
      ],
      "text/plain": [
       "   faa                                 name       lat        lon  \\\n",
       "0  SYA                         Eareckson As 52.712275 174.113620   \n",
       "1  EPM           Eastport Municipal Airport 44.910111 -67.012694   \n",
       "2  HUL                         Houlton Intl 46.123083 -67.792056   \n",
       "3  CAR                         Caribou Muni 46.871500 -68.017917   \n",
       "4  PQI  Northern Maine Rgnl At Presque Isle 46.688958 -68.044797   \n",
       "\n",
       "               tzone  \n",
       "0  America/Anchorage  \n",
       "1   America/New_York  \n",
       "2   America/New_York  \n",
       "3   America/New_York  \n",
       "4   America/New_York  "
      ]
     },
     "execution_count": 9,
     "metadata": {},
     "output_type": "execute_result"
    }
   ],
   "source": [
    "top_east = (\n",
    "    us_airports.sort_values(\"lon\", ascending=False)\n",
    "    [[\"faa\",\"name\",\"lat\",\"lon\",\"tzone\"]]\n",
    "    .head(5)\n",
    "    .reset_index(drop=True)\n",
    ")\n",
    "top_east\n"
   ]
  },
  {
   "cell_type": "markdown",
   "id": "33b45ee7-c51c-4419-bdcc-fee0b1f48c92",
   "metadata": {},
   "source": [
    "## 2. What is the easternmost airport in the United States?\n",
    "\n",
    "**Answer, Eareckson Air Station, SYA, Shemya Island Alaska, longitude about 174.114 E**\n",
    "\n",
    "**Why**\n",
    "I used the same United States filter, then sorted by longitude descending, positive values are east, Aleutian locations cross the 180th meridian, making SYA the easternmost by this definition\n",
    "\n",
    "**Assumption**\n",
    "Easternmost means greatest east longitude on the minus 180 to plus 180 scale, United States territories and military airfields are in scope"
   ]
  },
  {
   "cell_type": "code",
   "execution_count": 10,
   "id": "e9652dca-9b71-4604-be5e-b033b7d4b2eb",
   "metadata": {},
   "outputs": [
    {
     "data": {
      "text/plain": [
       "(     origin  hour  wind_speed  wind_gust\n",
       " 1009    EWR     3 1048.360580        NaN,\n",
       "         hours  mean_wind_speed  max_wind_speed  mean_wind_gust  max_wind_gust\n",
       " origin                                                                       \n",
       " LGA        24        14.960140       23.015600       24.885618      31.071060\n",
       " JFK        24        14.384750       20.714040       24.584845      27.618720\n",
       " EWR        24        13.258987       21.864820       25.173313      31.071060)"
      ]
     },
     "execution_count": 10,
     "metadata": {},
     "output_type": "execute_result"
    }
   ],
   "source": [
    "from pandas import NA\n",
    "\n",
    "w = weather[(weather[\"year\"]==2013) & (weather[\"month\"]==2) & (weather[\"day\"]==12)].copy()\n",
    "\n",
    "# keep suspicious rows for the writeup\n",
    "suspect = w[w[\"wind_speed\"] > 100][[\"origin\",\"hour\",\"wind_speed\",\"wind_gust\"]].sort_values(\"wind_speed\", ascending=False)\n",
    "\n",
    "# remove impossible wind speeds\n",
    "w.loc[w[\"wind_speed\"] > 100, \"wind_speed\"] = NA\n",
    "\n",
    "summary = (\n",
    "    w.groupby(\"origin\", as_index=True)\n",
    "     .agg(\n",
    "         hours=(\"hour\",\"count\"),\n",
    "         mean_wind_speed=(\"wind_speed\",\"mean\"),\n",
    "         max_wind_speed=(\"wind_speed\",\"max\"),\n",
    "         mean_wind_gust=(\"wind_gust\",\"mean\"),\n",
    "         max_wind_gust=(\"wind_gust\",\"max\"),\n",
    "     )\n",
    "     .sort_values(\"mean_wind_speed\", ascending=False)\n",
    ")\n",
    "suspect, summary\n"
   ]
  },
  {
   "cell_type": "markdown",
   "id": "7a4dd4b3-c806-4efe-b6c9-0d32cbed77c9",
   "metadata": {},
   "source": [
    "## 3. On February 12th, 2013, which New York area airport had the windiest weather?\n",
    "\n",
    "**Answer, LaGuardia, LGA, highest average wind speed for that date**\n",
    "\n",
    "**Method**\n",
    "I filtered weather.csv to the date, summarized mean wind speed and gusts by airport, I flagged any wind speed greater than 100 as missing, one extreme value at EWR appears impossible\n",
    "\n",
    "**Outlier note**\n",
    "A single EWR wind speed above one thousand would inflate averages, removing it aligns the three airports with realistic values, LGA remains highest by mean wind speed, daily peak gusts were about 31 miles per hour at LGA and EWR\n"
   ]
  },
  {
   "cell_type": "code",
   "execution_count": 11,
   "id": "dc2bc827-709e-4ad0-bae3-79bf0ecb57d5",
   "metadata": {},
   "outputs": [],
   "source": [
    "top_north.to_csv(\"candidates_northernmost.csv\", index=False)\n",
    "top_east.to_csv(\"candidates_easternmost.csv\", index=False)\n",
    "summary.reset_index().to_csv(\"ny_wind_2013_02_12.csv\", index=False)\n"
   ]
  },
  {
   "cell_type": "markdown",
   "id": "8fc07808-f6a8-4418-ab25-76e5af91e458",
   "metadata": {},
   "source": [
    "## Files produced in this notebook\n",
    "candidates_northernmost.csv, candidates_easternmost.csv, ny_wind_2013_02_12.csv"
   ]
  },
  {
   "cell_type": "code",
   "execution_count": null,
   "id": "d440c475-c332-41e6-ad31-4114fbd76c12",
   "metadata": {},
   "outputs": [],
   "source": []
  }
 ],
 "metadata": {
  "kernelspec": {
   "display_name": "Python 3 (ipykernel)",
   "language": "python",
   "name": "python3"
  },
  "language_info": {
   "codemirror_mode": {
    "name": "ipython",
    "version": 3
   },
   "file_extension": ".py",
   "mimetype": "text/x-python",
   "name": "python",
   "nbconvert_exporter": "python",
   "pygments_lexer": "ipython3",
   "version": "3.10.11"
  }
 },
 "nbformat": 4,
 "nbformat_minor": 5
}
