{
 "cells": [
  {
   "cell_type": "markdown",
   "id": "12f8e092-e4d1-4721-9b80-affde50415f7",
   "metadata": {},
   "source": [
    "**Shakhyry Walsh**  \n",
    "IS 362: Data Acquisition and Management  \n",
    "Professor Larry Cohen  \n",
    "10/12/2025\n"
   ]
  },
  {
   "cell_type": "code",
   "execution_count": 7,
   "id": "d67128af-6a5c-43a3-8e3c-de03b4f65659",
   "metadata": {},
   "outputs": [],
   "source": [
    "import pandas as pd\n",
    "import numpy as np\n"
   ]
  },
  {
   "cell_type": "markdown",
   "id": "16c1089c-bb3b-4740-b37b-9c082e4895da",
   "metadata": {},
   "source": [
    "**Ratings by Friends** \n"
   ]
  },
  {
   "cell_type": "code",
   "execution_count": 26,
   "id": "cc974853-b125-4bf9-9dd0-bfcfe1d7f53f",
   "metadata": {},
   "outputs": [
    {
     "data": {
      "text/html": [
       "<div>\n",
       "<style scoped>\n",
       "    .dataframe tbody tr th:only-of-type {\n",
       "        vertical-align: middle;\n",
       "    }\n",
       "\n",
       "    .dataframe tbody tr th {\n",
       "        vertical-align: top;\n",
       "    }\n",
       "\n",
       "    .dataframe thead th {\n",
       "        text-align: right;\n",
       "    }\n",
       "</style>\n",
       "<table border=\"1\" class=\"dataframe\">\n",
       "  <thead>\n",
       "    <tr style=\"text-align: right;\">\n",
       "      <th></th>\n",
       "      <th>Sinners</th>\n",
       "      <th>Fantastic 4</th>\n",
       "      <th>Superman</th>\n",
       "      <th>Final Destination</th>\n",
       "      <th>Wicked</th>\n",
       "      <th>Weapons</th>\n",
       "    </tr>\n",
       "    <tr>\n",
       "      <th>friends</th>\n",
       "      <th></th>\n",
       "      <th></th>\n",
       "      <th></th>\n",
       "      <th></th>\n",
       "      <th></th>\n",
       "      <th></th>\n",
       "    </tr>\n",
       "  </thead>\n",
       "  <tbody>\n",
       "    <tr>\n",
       "      <th>Shadera</th>\n",
       "      <td>5.0</td>\n",
       "      <td>4.0</td>\n",
       "      <td>3.0</td>\n",
       "      <td>NaN</td>\n",
       "      <td>5.0</td>\n",
       "      <td>5.0</td>\n",
       "    </tr>\n",
       "    <tr>\n",
       "      <th>Juan</th>\n",
       "      <td>3.0</td>\n",
       "      <td>2.0</td>\n",
       "      <td>4.0</td>\n",
       "      <td>1.0</td>\n",
       "      <td>3.0</td>\n",
       "      <td>NaN</td>\n",
       "    </tr>\n",
       "    <tr>\n",
       "      <th>Quana</th>\n",
       "      <td>4.0</td>\n",
       "      <td>5.0</td>\n",
       "      <td>NaN</td>\n",
       "      <td>3.0</td>\n",
       "      <td>4.0</td>\n",
       "      <td>4.0</td>\n",
       "    </tr>\n",
       "    <tr>\n",
       "      <th>Marc</th>\n",
       "      <td>2.0</td>\n",
       "      <td>3.0</td>\n",
       "      <td>2.0</td>\n",
       "      <td>2.0</td>\n",
       "      <td>1.0</td>\n",
       "      <td>2.0</td>\n",
       "    </tr>\n",
       "    <tr>\n",
       "      <th>Trent</th>\n",
       "      <td>5.0</td>\n",
       "      <td>4.0</td>\n",
       "      <td>5.0</td>\n",
       "      <td>4.0</td>\n",
       "      <td>2.0</td>\n",
       "      <td>NaN</td>\n",
       "    </tr>\n",
       "  </tbody>\n",
       "</table>\n",
       "</div>"
      ],
      "text/plain": [
       "         Sinners  Fantastic 4  Superman  Final Destination  Wicked  Weapons\n",
       "friends                                                                    \n",
       "Shadera      5.0          4.0       3.0                NaN     5.0      5.0\n",
       "Juan         3.0          2.0       4.0                1.0     3.0      NaN\n",
       "Quana        4.0          5.0       NaN                3.0     4.0      4.0\n",
       "Marc         2.0          3.0       2.0                2.0     1.0      2.0\n",
       "Trent        5.0          4.0       5.0                4.0     2.0      NaN"
      ]
     },
     "execution_count": 26,
     "metadata": {},
     "output_type": "execute_result"
    }
   ],
   "source": [
    "df = pd.read_csv(\"movie_reviews.csv\", index_col=\"friends\")\n",
    "df\n"
   ]
  },
  {
   "cell_type": "markdown",
   "id": "b2b8a068-7082-488d-b0d8-2301caa15c16",
   "metadata": {},
   "source": [
    "**Average Ratings for Each Viewer and Each Movie** \n"
   ]
  },
  {
   "cell_type": "code",
   "execution_count": 35,
   "id": "dfcfdb6d-c6e3-4498-a856-b31d5bc866a5",
   "metadata": {},
   "outputs": [
    {
     "name": "stdout",
     "output_type": "stream",
     "text": [
      "Average rating per viewer\n",
      "friends\n",
      "Shadera    4.4\n",
      "Juan       2.6\n",
      "Quana      4.0\n",
      "Marc       2.0\n",
      "Trent      4.0\n",
      "dtype: float64\n",
      "\n",
      "Average rating per movie\n",
      "Sinners              3.800000\n",
      "Fantastic 4          3.600000\n",
      "Superman             3.500000\n",
      "Final Destination    2.500000\n",
      "Wicked               3.000000\n",
      "Weapons              3.666667\n",
      "dtype: float64\n"
     ]
    }
   ],
   "source": [
    "avg_per_viewer = df.mean(axis=1, skipna=True)\n",
    "print(\"Average rating per viewer\")\n",
    "print(avg_per_viewer)\n",
    "\n",
    "avg_per_movie = df.mean(axis=0, skipna=True)\n",
    "print(\"\\nAverage rating per movie\")\n",
    "print(avg_per_movie)\n"
   ]
  },
  {
   "cell_type": "markdown",
   "id": "edb9d5e9-87cc-4999-a479-7bed8fab386f",
   "metadata": {},
   "source": [
    "**Normalized Ratings for Each Viewer** \n"
   ]
  },
  {
   "cell_type": "code",
   "execution_count": 34,
   "id": "1595f3ac-0944-4a9f-92d5-c12ce8ed5d4b",
   "metadata": {},
   "outputs": [
    {
     "data": {
      "text/html": [
       "<div>\n",
       "<style scoped>\n",
       "    .dataframe tbody tr th:only-of-type {\n",
       "        vertical-align: middle;\n",
       "    }\n",
       "\n",
       "    .dataframe tbody tr th {\n",
       "        vertical-align: top;\n",
       "    }\n",
       "\n",
       "    .dataframe thead th {\n",
       "        text-align: right;\n",
       "    }\n",
       "</style>\n",
       "<table border=\"1\" class=\"dataframe\">\n",
       "  <thead>\n",
       "    <tr style=\"text-align: right;\">\n",
       "      <th></th>\n",
       "      <th>Sinners</th>\n",
       "      <th>Fantastic 4</th>\n",
       "      <th>Superman</th>\n",
       "      <th>Final Destination</th>\n",
       "      <th>Wicked</th>\n",
       "      <th>Weapons</th>\n",
       "    </tr>\n",
       "    <tr>\n",
       "      <th>friends</th>\n",
       "      <th></th>\n",
       "      <th></th>\n",
       "      <th></th>\n",
       "      <th></th>\n",
       "      <th></th>\n",
       "      <th></th>\n",
       "    </tr>\n",
       "  </thead>\n",
       "  <tbody>\n",
       "    <tr>\n",
       "      <th>Shadera</th>\n",
       "      <td>1.000000</td>\n",
       "      <td>0.500000</td>\n",
       "      <td>0.0</td>\n",
       "      <td>NaN</td>\n",
       "      <td>1.000000</td>\n",
       "      <td>1.0</td>\n",
       "    </tr>\n",
       "    <tr>\n",
       "      <th>Juan</th>\n",
       "      <td>0.666667</td>\n",
       "      <td>0.333333</td>\n",
       "      <td>1.0</td>\n",
       "      <td>0.000000</td>\n",
       "      <td>0.666667</td>\n",
       "      <td>NaN</td>\n",
       "    </tr>\n",
       "    <tr>\n",
       "      <th>Quana</th>\n",
       "      <td>0.500000</td>\n",
       "      <td>1.000000</td>\n",
       "      <td>NaN</td>\n",
       "      <td>0.000000</td>\n",
       "      <td>0.500000</td>\n",
       "      <td>0.5</td>\n",
       "    </tr>\n",
       "    <tr>\n",
       "      <th>Marc</th>\n",
       "      <td>0.500000</td>\n",
       "      <td>1.000000</td>\n",
       "      <td>0.5</td>\n",
       "      <td>0.500000</td>\n",
       "      <td>0.000000</td>\n",
       "      <td>0.5</td>\n",
       "    </tr>\n",
       "    <tr>\n",
       "      <th>Trent</th>\n",
       "      <td>1.000000</td>\n",
       "      <td>0.666667</td>\n",
       "      <td>1.0</td>\n",
       "      <td>0.666667</td>\n",
       "      <td>0.000000</td>\n",
       "      <td>NaN</td>\n",
       "    </tr>\n",
       "  </tbody>\n",
       "</table>\n",
       "</div>"
      ],
      "text/plain": [
       "          Sinners  Fantastic 4  Superman  Final Destination    Wicked  Weapons\n",
       "friends                                                                       \n",
       "Shadera  1.000000     0.500000       0.0                NaN  1.000000      1.0\n",
       "Juan     0.666667     0.333333       1.0           0.000000  0.666667      NaN\n",
       "Quana    0.500000     1.000000       NaN           0.000000  0.500000      0.5\n",
       "Marc     0.500000     1.000000       0.5           0.500000  0.000000      0.5\n",
       "Trent    1.000000     0.666667       1.0           0.666667  0.000000      NaN"
      ]
     },
     "execution_count": 34,
     "metadata": {},
     "output_type": "execute_result"
    }
   ],
   "source": [
    "def normalize_viewer_minmax(row):\n",
    "    valid = row.dropna()\n",
    "    if valid.empty:\n",
    "        return row \n",
    "    min_v = valid.min()\n",
    "    max_v = valid.max()\n",
    "    if max_v == min_v:\n",
    "        normed = row.apply(lambda x: 0.5 if not pd.isna(x) else np.nan)\n",
    "        return normed\n",
    "    return row.apply(lambda x: (x - min_v) / (max_v - min_v) if not pd.isna(x) else np.nan)\n",
    "\n",
    "df_norm = df.apply(normalize_viewer_minmax, axis=1)\n",
    "df_norm\n"
   ]
  },
  {
   "cell_type": "markdown",
   "id": "8370fcde-5035-45de-a611-34e829483124",
   "metadata": {},
   "source": [
    "**Average Normalized Rating per Viewer and Movie** \n"
   ]
  },
  {
   "cell_type": "code",
   "execution_count": 33,
   "id": "588a5424-40d3-4afb-a84e-f3ee83d9f72e",
   "metadata": {},
   "outputs": [
    {
     "name": "stdout",
     "output_type": "stream",
     "text": [
      "Average normalized rating per viewer\n",
      "friends\n",
      "Shadera    0.700000\n",
      "Juan       0.533333\n",
      "Quana      0.500000\n",
      "Marc       0.500000\n",
      "Trent      0.666667\n",
      "dtype: float64\n",
      "\n",
      "Average normalized rating per movie\n",
      "Sinners              0.733333\n",
      "Fantastic 4          0.700000\n",
      "Superman             0.625000\n",
      "Final Destination    0.291667\n",
      "Wicked               0.433333\n",
      "Weapons              0.666667\n",
      "dtype: float64\n"
     ]
    }
   ],
   "source": [
    "avg_norm_viewer = df_norm.mean(axis=1, skipna=True)\n",
    "avg_norm_movie = df_norm.mean(axis=0, skipna=True)\n",
    "\n",
    "print(\"Average normalized rating per viewer\")\n",
    "print(avg_norm_viewer)\n",
    "\n",
    "print(\"\\nAverage normalized rating per movie\")\n",
    "print(avg_norm_movie)\n"
   ]
  },
  {
   "cell_type": "markdown",
   "id": "999511e6-5bf3-4c32-8c5e-3046b80827fa",
   "metadata": {},
   "source": [
    "**Conclusion**\n",
    "\n",
    "Advantages of using normalized ratings per user:\n",
    "Normalization helps even things out between people who rate differently. For example, someone who usually gives high scores and someone who gives low scores will now be on the same level, so their opinions can be compared more fairly. It lets recommendation systems focus on patterns in how people rate, rather than on the actual numbers. This makes it easier to combine ratings from many users who each have their own way of scoring.\n",
    "\n",
    "Disadvantages of normalization:\n",
    "When we normalize, we lose the sense of how much someone actually liked a movie overall. For example, if one person gives all 5s and another gives all 3s, their ratings might look similar after normalization, even though the first person liked everything more. It can also be unreliable when someone has rated only a few movies or gave the same rating for all of them. Another downside is that the normalized numbers (like 0.8) don’t directly translate into star ratings (like 4 out of 5), which makes them harder for people to interpret.\n",
    "\n",
    "Standardization notes:\n",
    "Standardization adjusts each person’s ratings by how far their scores are from their own average. This helps show which movies they liked more or less compared to their usual ratings. It’s useful for more advanced data analysis, but it works best when a person’s ratings follow a roughly normal pattern (like a bell curve). If someone has rated only a few movies, standardization might not be very meaningful."
   ]
  },
  {
   "cell_type": "markdown",
   "id": "66288bb2-dd9f-4d6e-aadf-6b21906c4395",
   "metadata": {},
   "source": [
    "**Extra Credit**  \n",
    "**Standardized Ratings per Viewer** \n"
   ]
  },
  {
   "cell_type": "code",
   "execution_count": 37,
   "id": "3195304c-350e-4221-aca5-f2e6053a916e",
   "metadata": {},
   "outputs": [
    {
     "data": {
      "text/html": [
       "<div>\n",
       "<style scoped>\n",
       "    .dataframe tbody tr th:only-of-type {\n",
       "        vertical-align: middle;\n",
       "    }\n",
       "\n",
       "    .dataframe tbody tr th {\n",
       "        vertical-align: top;\n",
       "    }\n",
       "\n",
       "    .dataframe thead th {\n",
       "        text-align: right;\n",
       "    }\n",
       "</style>\n",
       "<table border=\"1\" class=\"dataframe\">\n",
       "  <thead>\n",
       "    <tr style=\"text-align: right;\">\n",
       "      <th></th>\n",
       "      <th>Sinners</th>\n",
       "      <th>Fantastic 4</th>\n",
       "      <th>Superman</th>\n",
       "      <th>Final Destination</th>\n",
       "      <th>Wicked</th>\n",
       "      <th>Weapons</th>\n",
       "    </tr>\n",
       "    <tr>\n",
       "      <th>friends</th>\n",
       "      <th></th>\n",
       "      <th></th>\n",
       "      <th></th>\n",
       "      <th></th>\n",
       "      <th></th>\n",
       "      <th></th>\n",
       "    </tr>\n",
       "  </thead>\n",
       "  <tbody>\n",
       "    <tr>\n",
       "      <th>Shadera</th>\n",
       "      <td>0.750000</td>\n",
       "      <td>-0.500000</td>\n",
       "      <td>-1.750000</td>\n",
       "      <td>NaN</td>\n",
       "      <td>0.750000</td>\n",
       "      <td>0.75</td>\n",
       "    </tr>\n",
       "    <tr>\n",
       "      <th>Juan</th>\n",
       "      <td>0.392232</td>\n",
       "      <td>-0.588348</td>\n",
       "      <td>1.372813</td>\n",
       "      <td>-1.568929</td>\n",
       "      <td>0.392232</td>\n",
       "      <td>NaN</td>\n",
       "    </tr>\n",
       "    <tr>\n",
       "      <th>Quana</th>\n",
       "      <td>0.000000</td>\n",
       "      <td>1.581139</td>\n",
       "      <td>NaN</td>\n",
       "      <td>-1.581139</td>\n",
       "      <td>0.000000</td>\n",
       "      <td>0.00</td>\n",
       "    </tr>\n",
       "    <tr>\n",
       "      <th>Marc</th>\n",
       "      <td>0.000000</td>\n",
       "      <td>1.732051</td>\n",
       "      <td>0.000000</td>\n",
       "      <td>0.000000</td>\n",
       "      <td>-1.732051</td>\n",
       "      <td>0.00</td>\n",
       "    </tr>\n",
       "    <tr>\n",
       "      <th>Trent</th>\n",
       "      <td>0.912871</td>\n",
       "      <td>0.000000</td>\n",
       "      <td>0.912871</td>\n",
       "      <td>0.000000</td>\n",
       "      <td>-1.825742</td>\n",
       "      <td>NaN</td>\n",
       "    </tr>\n",
       "  </tbody>\n",
       "</table>\n",
       "</div>"
      ],
      "text/plain": [
       "          Sinners  Fantastic 4  Superman  Final Destination    Wicked  Weapons\n",
       "friends                                                                       \n",
       "Shadera  0.750000    -0.500000 -1.750000                NaN  0.750000     0.75\n",
       "Juan     0.392232    -0.588348  1.372813          -1.568929  0.392232      NaN\n",
       "Quana    0.000000     1.581139       NaN          -1.581139  0.000000     0.00\n",
       "Marc     0.000000     1.732051  0.000000           0.000000 -1.732051     0.00\n",
       "Trent    0.912871     0.000000  0.912871           0.000000 -1.825742      NaN"
      ]
     },
     "execution_count": 37,
     "metadata": {},
     "output_type": "execute_result"
    }
   ],
   "source": [
    "def standardize_viewer(row):\n",
    "    valid = row.dropna()\n",
    "    if valid.empty:\n",
    "        return row\n",
    "    mean_v = valid.mean()\n",
    "    std_v = valid.std(ddof=0)  # population std, ddof=0, or ddof=1 for sample std\n",
    "    if std_v == 0:\n",
    "        # all ratings the same, set z to 0\n",
    "        return row.apply(lambda x: 0 if not pd.isna(x) else np.nan)\n",
    "    return row.apply(lambda x: (x - mean_v) / std_v if not pd.isna(x) else np.nan)\n",
    "\n",
    "df_std = df.apply(standardize_user, axis=1)\n",
    "df_std\n"
   ]
  },
  {
   "cell_type": "markdown",
   "id": "74c5ab14-6227-409e-ad2d-984b4617aba8",
   "metadata": {},
   "source": [
    "**Averages on Standardized Data** \n"
   ]
  },
  {
   "cell_type": "code",
   "execution_count": 39,
   "id": "3dfda659-69ad-44b0-92fc-adf1bc6bf694",
   "metadata": {},
   "outputs": [
    {
     "name": "stdout",
     "output_type": "stream",
     "text": [
      "Average standardized rating per viewer\n",
      "friends\n",
      "Shadera   -3.996803e-16\n",
      "Juan      -6.661338e-17\n",
      "Quana      0.000000e+00\n",
      "Marc       0.000000e+00\n",
      "Trent      0.000000e+00\n",
      "dtype: float64\n",
      "\n",
      "Average standardized rating per movie\n",
      "Sinners              0.411021\n",
      "Fantastic 4          0.444968\n",
      "Superman             0.133921\n",
      "Final Destination   -0.787517\n",
      "Wicked              -0.483112\n",
      "Weapons              0.250000\n",
      "dtype: float64\n"
     ]
    }
   ],
   "source": [
    "avg_std_viewer = df_std.mean(axis=1, skipna=True)\n",
    "avg_std_movie = df_std.mean(axis=0, skipna=True)\n",
    "\n",
    "print(\"Average standardized rating per viewer\")\n",
    "print(avg_std_viewer)\n",
    "\n",
    "print(\"\\nAverage standardized rating per movie\")\n",
    "print(avg_std_movie)\n"
   ]
  },
  {
   "cell_type": "markdown",
   "id": "dd326367-89af-46e0-b178-64ecc18ea15e",
   "metadata": {},
   "source": [
    "**CSVs** \n"
   ]
  },
  {
   "cell_type": "code",
   "execution_count": 40,
   "id": "61077694-5e61-45ee-9ea5-7fd95d052c48",
   "metadata": {},
   "outputs": [],
   "source": [
    "df.to_csv(\"movie_reviews_raw.csv\")\n",
    "df_norm.to_csv(\"movie_reviews_normalized.csv\")\n",
    "df_std.to_csv(\"movie_reviews_standardized.csv\")\n"
   ]
  }
 ],
 "metadata": {
  "kernelspec": {
   "display_name": "Python 3 (ipykernel)",
   "language": "python",
   "name": "python3"
  },
  "language_info": {
   "codemirror_mode": {
    "name": "ipython",
    "version": 3
   },
   "file_extension": ".py",
   "mimetype": "text/x-python",
   "name": "python",
   "nbconvert_exporter": "python",
   "pygments_lexer": "ipython3",
   "version": "3.10.11"
  }
 },
 "nbformat": 4,
 "nbformat_minor": 5
}
