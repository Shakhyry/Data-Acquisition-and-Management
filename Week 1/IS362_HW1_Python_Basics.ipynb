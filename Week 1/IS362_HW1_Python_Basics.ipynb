{
 "cells": [
  {
   "cell_type": "markdown",
   "id": "acdac611",
   "metadata": {},
   "source": [
    "# Week 1 - Python Basics\n",
    "Shakhyry Walsh\n",
    "Professor Larry Cohen\n",
    "IS 362\n",
    "8/28/25"
   ]
  },
  {
   "cell_type": "code",
   "execution_count": 8,
   "id": "d898fddd",
   "metadata": {},
   "outputs": [
    {
     "name": "stdout",
     "output_type": "stream",
     "text": [
      "1 2 3 4 can do python more\n"
     ]
    }
   ],
   "source": [
    "one = 1\n",
    "two = 2\n",
    "three = 3\n",
    "four = 4\n",
    "can = \"can\"\n",
    "do = \"do\"\n",
    "python = \"python\"\n",
    "more = \"more\"\n",
    "\n",
    "print(one, two, three, four, can, do, python, more) "
   ]
  },
  {
   "cell_type": "code",
   "execution_count": 9,
   "id": "6e359e69",
   "metadata": {},
   "outputs": [
    {
     "name": "stdout",
     "output_type": "stream",
     "text": [
      "The result is 450\n"
     ]
    }
   ],
   "source": [
    "number1 = 15\n",
    "number2 = 30\n",
    "result = number1 * number2\n",
    "print(\"The result is\", result)"
   ]
  },
  {
   "cell_type": "code",
   "execution_count": 22,
   "id": "d1940ef3",
   "metadata": {},
   "outputs": [
    {
     "name": "stdout",
     "output_type": "stream",
     "text": [
      "Given list: [10, 20, 30, 40, 10]\n",
      "result is True\n",
      "numbers_y: [75, 65, 35, 75, 30]\n",
      "result is False\n"
     ]
    }
   ],
   "source": [
    "def check_first_last(nums):\n",
    "    \n",
    "    return nums[0] == nums[-1]\n",
    "\n",
    "numbers_x = [10, 20, 30, 40, 10]\n",
    "numbers_y = [75, 65, 35, 75, 30]\n",
    "\n",
    "print(\"Given list:\", numbers_x)\n",
    "print(\"result is\", check_first_last(numbers_x))\n",
    "\n",
    "print(\"numbers_y:\", numbers_y)\n",
    "print(\"result is\", check_first_last(numbers_y))"
   ]
  },
  {
   "cell_type": "code",
   "execution_count": 12,
   "id": "7c549663",
   "metadata": {},
   "outputs": [
    {
     "name": "stdout",
     "output_type": "stream",
     "text": [
      "Given list is [10, 20, 33, 46, 55]\n",
      "Divisible by 5\n",
      "10\n",
      "20\n",
      "55\n"
     ]
    }
   ],
   "source": [
    "nums = [10, 20, 33, 46, 55]\n",
    "print(\"Given list is\", nums)\n",
    "print(\"Divisible by 5\")\n",
    "for n in nums:\n",
    "    if n % 5 == 0:\n",
    "        print(n)"
   ]
  },
  {
   "cell_type": "code",
   "execution_count": 13,
   "id": "f547b476",
   "metadata": {},
   "outputs": [
    {
     "name": "stdout",
     "output_type": "stream",
     "text": [
      "Anjali appeared 2 times\n"
     ]
    }
   ],
   "source": [
    "str_x = \"Anjali is good developer. Anjali is a writer\"\n",
    "count = str_x.count(\"Anjali\")\n",
    "print(\"Anjali appeared\", count, \"times\")  "
   ]
  },
  {
   "cell_type": "code",
   "execution_count": 14,
   "id": "65098c89",
   "metadata": {},
   "outputs": [
    {
     "name": "stdout",
     "output_type": "stream",
     "text": [
      "1 \n",
      "2 2 \n",
      "3 3 3 \n",
      "4 4 4 4 \n",
      "5 5 5 5 5 \n"
     ]
    }
   ],
   "source": [
    "for i in range(1, 6):\n",
    "    print((str(i) + \" \") * i)"
   ]
  },
  {
   "cell_type": "code",
   "execution_count": 15,
   "id": "0a8abf81",
   "metadata": {},
   "outputs": [
    {
     "name": "stdout",
     "output_type": "stream",
     "text": [
      "1\t2\t3\t4\t5\t6\t7\t8\t9\t10\t\n",
      "2\t4\t6\t8\t10\t12\t14\t16\t18\t20\t\n",
      "3\t6\t9\t12\t15\t18\t21\t24\t27\t30\t\n",
      "4\t8\t12\t16\t20\t24\t28\t32\t36\t40\t\n",
      "5\t10\t15\t20\t25\t30\t35\t40\t45\t50\t\n",
      "6\t12\t18\t24\t30\t36\t42\t48\t54\t60\t\n",
      "7\t14\t21\t28\t35\t42\t49\t56\t63\t70\t\n",
      "8\t16\t24\t32\t40\t48\t56\t64\t72\t80\t\n",
      "9\t18\t27\t36\t45\t54\t63\t72\t81\t90\t\n",
      "10\t20\t30\t40\t50\t60\t70\t80\t90\t100\t\n"
     ]
    }
   ],
   "source": [
    "for i in range(1, 11):\n",
    "    for j in range(1, 11):\n",
    "        print(i * j, end=\"\\t\")\n",
    "    print()"
   ]
  },
  {
   "cell_type": "code",
   "execution_count": 16,
   "id": "6f1b68aa",
   "metadata": {},
   "outputs": [
    {
     "name": "stdout",
     "output_type": "stream",
     "text": [
      "Temperatures in Celsius: [ 117.5  -165.63  -47.9     2.83   45.03 -184.7 ]\n"
     ]
    }
   ],
   "source": [
    "import numpy as np\n",
    "\n",
    "Temp_K = [390.65, 107.52, 225.25, 275.98, 318.18, 88.45]\n",
    "Temp_array = np.array(Temp_K)\n",
    "Temp_C = Temp_array - 273.15\n",
    "print(\"Temperatures in Celsius:\", Temp_C)"
   ]
  },
  {
   "cell_type": "code",
   "execution_count": 43,
   "id": "532bc913",
   "metadata": {},
   "outputs": [
    {
     "name": "stdout",
     "output_type": "stream",
     "text": [
      "    Student Hair Color Eye Color  Weight_kg\n",
      "0     Tommy      Brown     Hazel         60\n",
      "1      Fred       Grey     Green         80\n",
      "2      Gail     Blonde      Blue         76\n",
      "3  Shakhyry     Golden     Honey         60\n",
      "4     Randy      Black     Hazel         88\n",
      "5     Ariel      Brown      Blue         85\n",
      "\n",
      "Hair Color:\n",
      "0     Brown\n",
      "1      Grey\n",
      "2    Blonde\n",
      "3    Golden\n",
      "4     Black\n",
      "5     Brown\n",
      "\n",
      "Eye Color:\n",
      "0    Hazel\n",
      "1    Green\n",
      "2     Blue\n",
      "3    Honey\n",
      "4    Hazel\n",
      "5     Blue\n",
      "\n",
      "Student & Weight Columns:\n",
      "    Student  Weight_kg\n",
      "0     Tommy         60\n",
      "1      Fred         80\n",
      "2      Gail         76\n",
      "3  Shakhyry         60\n",
      "4     Randy         88\n",
      "5     Ariel         85\n",
      "\n",
      "Second through Fourth Observations:\n",
      "    Student Hair Color Eye Color  Weight_kg\n",
      "1      Fred       Grey     Green         80\n",
      "2      Gail     Blonde      Blue         76\n",
      "3  Shakhyry     Golden     Honey         60\n"
     ]
    }
   ],
   "source": [
    "import pandas as pd\n",
    "\n",
    "data = {\n",
    "    \"Student\": [\"Tommy\", \"Fred\", \"Gail\", \"Shakhyry\", \"Randy\", \"Ariel\"],\n",
    "    \"Hair Color\": [\"Brown\", \"Grey\", \"Blonde\", \"Golden\", \"Black\", \"Brown\"],\n",
    "    \"Eye Color\": [\"Hazel\", \"Green\", \"Blue\", \"Honey\", \"Hazel\", \"Blue\"],\n",
    "    \"Weight_kg\": [60, 80, 76, 60, 88, 85],\n",
    "}\n",
    "\n",
    "df = pd.DataFrame(data)\n",
    "\n",
    "print(df)\n",
    "\n",
    "print(\"\\nHair Color:\")\n",
    "print(df[\"Hair Color\"].to_string(name=False, dtype=False))\n",
    "\n",
    "print(\"\\nEye Color:\")\n",
    "print(df[\"Eye Color\"].to_string(index=True, header=True))\n",
    "\n",
    "print(\"\\nStudent & Weight Columns:\")\n",
    "print(df[[\"Student\", \"Weight_kg\"]])\n",
    "\n",
    "print(\"\\nSecond through Fourth Observations:\")\n",
    "print(df.iloc[1:4])"
   ]
  },
  {
   "cell_type": "code",
   "execution_count": null,
   "id": "bc7174ec-c186-4d2e-af79-7e868cf67cdf",
   "metadata": {},
   "outputs": [],
   "source": []
  }
 ],
 "metadata": {
  "kernelspec": {
   "display_name": "Python 3 (ipykernel)",
   "language": "python",
   "name": "python3"
  },
  "language_info": {
   "codemirror_mode": {
    "name": "ipython",
    "version": 3
   },
   "file_extension": ".py",
   "mimetype": "text/x-python",
   "name": "python",
   "nbconvert_exporter": "python",
   "pygments_lexer": "ipython3",
   "version": "3.10.11"
  }
 },
 "nbformat": 4,
 "nbformat_minor": 5
}
