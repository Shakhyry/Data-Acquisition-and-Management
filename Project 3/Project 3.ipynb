{
 "cells": [
  {
   "cell_type": "markdown",
   "id": "ed4e4012-3d80-42c3-b8b8-8c66219f3f58",
   "metadata": {},
   "source": [
    "# Shakhyry Walsh\n",
    "## Professor Larry Cohen\n",
    "## IS 362\n",
    "## 10/25/2025\n"
   ]
  },
  {
   "cell_type": "markdown",
   "id": "ea8eca9d-068a-4d53-849c-d131379f8bc4",
   "metadata": {},
   "source": [
    "# Project 3\n",
    "\n",
    "### Objective\n",
    "This project demonstrates how to join data across multiple tables in a relational database and display the combined information using `pandas`.\n",
    "\n",
    "### Database\n",
    "We are using the **Chinook_Sqlite.sqlite** database available at:\n",
    "https://github.com/lerocha/chinook-database/releases\n",
    "\n"
   ]
  },
  {
   "cell_type": "markdown",
   "id": "d0b3470c-c0e2-412b-a4e4-db0913fe03c5",
   "metadata": {},
   "source": [
    "## Install Required Libraries\n"
   ]
  },
  {
   "cell_type": "code",
   "execution_count": 1,
   "id": "8f2cabbd-3a55-4632-a443-103f383a5dbb",
   "metadata": {},
   "outputs": [
    {
     "name": "stdout",
     "output_type": "stream",
     "text": [
      "Requirement already satisfied: pandas in c:\\users\\shakh\\appdata\\local\\programs\\python\\python310\\lib\\site-packages (2.2.3)\n",
      "Requirement already satisfied: numpy>=1.22.4 in c:\\users\\shakh\\appdata\\local\\programs\\python\\python310\\lib\\site-packages (from pandas) (1.26.4)\n",
      "Requirement already satisfied: python-dateutil>=2.8.2 in c:\\users\\shakh\\appdata\\local\\programs\\python\\python310\\lib\\site-packages (from pandas) (2.8.2)\n",
      "Requirement already satisfied: pytz>=2020.1 in c:\\users\\shakh\\appdata\\local\\programs\\python\\python310\\lib\\site-packages (from pandas) (2024.1)\n",
      "Requirement already satisfied: tzdata>=2022.7 in c:\\users\\shakh\\appdata\\local\\programs\\python\\python310\\lib\\site-packages (from pandas) (2024.1)\n",
      "Requirement already satisfied: six>=1.5 in c:\\users\\shakh\\appdata\\local\\programs\\python\\python310\\lib\\site-packages (from python-dateutil>=2.8.2->pandas) (1.16.0)\n"
     ]
    }
   ],
   "source": [
    "!pip install pandas\n"
   ]
  },
  {
   "cell_type": "markdown",
   "id": "0c1d4cc7-311a-43b0-82c4-af40d3c80fdc",
   "metadata": {},
   "source": [
    "## Import Libraries and Connect to the Database\n"
   ]
  },
  {
   "cell_type": "code",
   "execution_count": 7,
   "id": "fa6c55b9-5736-4a20-a9e1-a9bab7a22d72",
   "metadata": {},
   "outputs": [
    {
     "name": "stdout",
     "output_type": "stream",
     "text": [
      "Connected to Chinook database successfully!\n"
     ]
    }
   ],
   "source": [
    "import sqlite3\n",
    "import pandas as pd\n",
    "\n",
    "conn = sqlite3.connect(\"Chinook_Sqlite.sqlite\")\n",
    "\n",
    "print(\"Connected to Chinook database successfully!\")\n"
   ]
  },
  {
   "cell_type": "markdown",
   "id": "c61cdacd-cc61-4233-bd63-287d1c7f058b",
   "metadata": {},
   "source": [
    "## Write SQL Query\n"
   ]
  },
  {
   "cell_type": "code",
   "execution_count": 3,
   "id": "bf2133a0-eb73-495c-9b30-b5f69391cc66",
   "metadata": {},
   "outputs": [],
   "source": [
    "query = \"\"\"\n",
    "SELECT \n",
    "    c.LastName,\n",
    "    c.FirstName,\n",
    "    t.Name AS TrackName,\n",
    "    al.Title AS AlbumTitle\n",
    "FROM Customer c\n",
    "JOIN Invoice i ON c.CustomerId = i.CustomerId\n",
    "JOIN InvoiceLine il ON i.InvoiceId = il.InvoiceId\n",
    "JOIN Track t ON il.TrackId = t.TrackId\n",
    "JOIN Album al ON t.AlbumId = al.AlbumId\n",
    "ORDER BY c.LastName, c.FirstName;\n",
    "\"\"\"\n"
   ]
  },
  {
   "cell_type": "markdown",
   "id": "8918ee0f-256a-4473-bfd8-fc3a68a61c4f",
   "metadata": {},
   "source": [
    "## Load Query Results into a pandas DataFrame\n"
   ]
  },
  {
   "cell_type": "code",
   "execution_count": 8,
   "id": "a98d9a23-3888-4ce1-bcb6-1e7e2417fd27",
   "metadata": {},
   "outputs": [
    {
     "data": {
      "text/html": [
       "<div>\n",
       "<style scoped>\n",
       "    .dataframe tbody tr th:only-of-type {\n",
       "        vertical-align: middle;\n",
       "    }\n",
       "\n",
       "    .dataframe tbody tr th {\n",
       "        vertical-align: top;\n",
       "    }\n",
       "\n",
       "    .dataframe thead th {\n",
       "        text-align: right;\n",
       "    }\n",
       "</style>\n",
       "<table border=\"1\" class=\"dataframe\">\n",
       "  <thead>\n",
       "    <tr style=\"text-align: right;\">\n",
       "      <th></th>\n",
       "      <th>LastName</th>\n",
       "      <th>FirstName</th>\n",
       "      <th>Name</th>\n",
       "      <th>Title</th>\n",
       "    </tr>\n",
       "  </thead>\n",
       "  <tbody>\n",
       "    <tr>\n",
       "      <th>0</th>\n",
       "      <td>Almeida</td>\n",
       "      <td>Roberto</td>\n",
       "      <td>Right Next Door to Hell</td>\n",
       "      <td>Use Your Illusion I</td>\n",
       "    </tr>\n",
       "    <tr>\n",
       "      <th>1</th>\n",
       "      <td>Almeida</td>\n",
       "      <td>Roberto</td>\n",
       "      <td>In The Evening</td>\n",
       "      <td>In Through The Out Door</td>\n",
       "    </tr>\n",
       "    <tr>\n",
       "      <th>2</th>\n",
       "      <td>Almeida</td>\n",
       "      <td>Roberto</td>\n",
       "      <td>Fool In The Rain</td>\n",
       "      <td>In Through The Out Door</td>\n",
       "    </tr>\n",
       "    <tr>\n",
       "      <th>3</th>\n",
       "      <td>Almeida</td>\n",
       "      <td>Roberto</td>\n",
       "      <td>Saudade Dos Aviões Da Panair (Conversando No Bar)</td>\n",
       "      <td>Minas</td>\n",
       "    </tr>\n",
       "    <tr>\n",
       "      <th>4</th>\n",
       "      <td>Almeida</td>\n",
       "      <td>Roberto</td>\n",
       "      <td>Caso Você Queira Saber</td>\n",
       "      <td>Minas</td>\n",
       "    </tr>\n",
       "  </tbody>\n",
       "</table>\n",
       "</div>"
      ],
      "text/plain": [
       "  LastName FirstName                                               Name  \\\n",
       "0  Almeida   Roberto                            Right Next Door to Hell   \n",
       "1  Almeida   Roberto                                     In The Evening   \n",
       "2  Almeida   Roberto                                   Fool In The Rain   \n",
       "3  Almeida   Roberto  Saudade Dos Aviões Da Panair (Conversando No Bar)   \n",
       "4  Almeida   Roberto                             Caso Você Queira Saber   \n",
       "\n",
       "                     Title  \n",
       "0      Use Your Illusion I  \n",
       "1  In Through The Out Door  \n",
       "2  In Through The Out Door  \n",
       "3                    Minas  \n",
       "4                    Minas  "
      ]
     },
     "execution_count": 8,
     "metadata": {},
     "output_type": "execute_result"
    }
   ],
   "source": [
    "import pandas as pd\n",
    "\n",
    "df = pd.read_sql_query(query, conn)\n",
    "\n",
    "df = df.rename(columns={\n",
    "    'TrackName': 'Name',\n",
    "    'AlbumTitle': 'Title'\n",
    "})\n",
    "\n",
    "df.head()"
   ]
  },
  {
   "cell_type": "markdown",
   "id": "ef2c59e1-b91c-4b58-ae7d-3d8715ed4489",
   "metadata": {},
   "source": [
    "## Export and Close\n"
   ]
  },
  {
   "cell_type": "code",
   "execution_count": 5,
   "id": "3b137efa-feb3-4687-a975-def5d6e228d5",
   "metadata": {},
   "outputs": [
    {
     "name": "stdout",
     "output_type": "stream",
     "text": [
      "Database connection closed successfully!\n"
     ]
    }
   ],
   "source": [
    "df.to_csv(\"customer_tracks_albums.csv\", index=False)\n",
    "\n",
    "conn.close()\n",
    "print(\"Database connection closed successfully!\")\n"
   ]
  },
  {
   "cell_type": "code",
   "execution_count": null,
   "id": "eb74dde2-5906-44b4-ab95-04de63f80317",
   "metadata": {},
   "outputs": [],
   "source": []
  }
 ],
 "metadata": {
  "kernelspec": {
   "display_name": "Python 3 (ipykernel)",
   "language": "python",
   "name": "python3"
  },
  "language_info": {
   "codemirror_mode": {
    "name": "ipython",
    "version": 3
   },
   "file_extension": ".py",
   "mimetype": "text/x-python",
   "name": "python",
   "nbconvert_exporter": "python",
   "pygments_lexer": "ipython3",
   "version": "3.10.11"
  }
 },
 "nbformat": 4,
 "nbformat_minor": 5
}
