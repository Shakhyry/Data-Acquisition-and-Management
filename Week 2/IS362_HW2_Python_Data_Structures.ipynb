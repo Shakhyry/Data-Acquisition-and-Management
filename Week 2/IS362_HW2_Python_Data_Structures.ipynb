{
 "cells": [
  {
   "cell_type": "markdown",
   "id": "acdac611",
   "metadata": {},
   "source": [
    "# Week 2 - Python Data Structures"
   ]
  },
  {
   "cell_type": "markdown",
   "id": "5658c0d2-c2f3-49d9-bf98-144d00aebaa6",
   "metadata": {},
   "source": [
    "### What is Counter\n",
    "Counter is a dictionary like class from the collections module. It maps items to their counts. It is very handy for counting words, letters, or any repeated values. It also provides helpers like most_common, arithmetic on counters, and easy updates.\n"
   ]
  },
  {
   "cell_type": "markdown",
   "id": "0e2ebe97-345c-4a4e-b7b8-ac0fa0981605",
   "metadata": {},
   "source": [
    "### Basic Counting"
   ]
  },
  {
   "cell_type": "code",
   "execution_count": 7,
   "id": "83dd1c39-5aa2-4922-a594-043311d7de9b",
   "metadata": {},
   "outputs": [
    {
     "data": {
      "text/plain": [
       "Counter({3: 3, 2: 2, 1: 1, 4: 1})"
      ]
     },
     "execution_count": 7,
     "metadata": {},
     "output_type": "execute_result"
    }
   ],
   "source": [
    "from collections import Counter\n",
    "\n",
    "nums = [1, 2, 2, 3, 3, 3, 4]\n",
    "cnt = Counter(nums)\n",
    "cnt"
   ]
  },
  {
   "cell_type": "markdown",
   "id": "98c5ef66-fbec-4049-aab3-cf334b463f03",
   "metadata": {},
   "source": [
    "### Counting Words From Text"
   ]
  },
  {
   "cell_type": "code",
   "execution_count": 9,
   "id": "6e359e69",
   "metadata": {},
   "outputs": [
    {
     "data": {
      "text/plain": [
       "Counter({'ariel': 3,\n",
       "         'and': 2,\n",
       "         'kira': 2,\n",
       "         'heals': 1,\n",
       "         'with': 1,\n",
       "         'moonlight': 1,\n",
       "         'ocean': 1,\n",
       "         'water': 1,\n",
       "         'codes': 1,\n",
       "         'studies': 1,\n",
       "         'nova': 1})"
      ]
     },
     "execution_count": 9,
     "metadata": {},
     "output_type": "execute_result"
    }
   ],
   "source": [
    "text = \"\"\"\n",
    "Ariel heals with moonlight and ocean water, Kira codes and studies.\n",
    "Ariel, Kira, Nova, Ariel.\n",
    "\"\"\".lower()\n",
    "\n",
    "# very light cleanup, split on non letters and keep words\n",
    "import re\n",
    "words = [w for w in re.split(r\"[^a-z]+\", text) if w]\n",
    "Counter(words)"
   ]
  },
  {
   "cell_type": "markdown",
   "id": "16881cef-03b5-4317-b553-79eeaf688eaf",
   "metadata": {},
   "source": [
    "### Top N Items With most_common"
   ]
  },
  {
   "cell_type": "code",
   "execution_count": 10,
   "id": "d1940ef3",
   "metadata": {},
   "outputs": [
    {
     "data": {
      "text/plain": [
       "[('ariel', 3), ('and', 2), ('kira', 2)]"
      ]
     },
     "execution_count": 10,
     "metadata": {},
     "output_type": "execute_result"
    }
   ],
   "source": [
    "word_counts = Counter(words)\n",
    "word_counts.most_common(3)  # top three words"
   ]
  },
  {
   "cell_type": "markdown",
   "id": "781639b0-6c11-4a29-b507-36046e76f2f1",
   "metadata": {},
   "source": [
    "### Update Counts From Another Iterable"
   ]
  },
  {
   "cell_type": "code",
   "execution_count": 11,
   "id": "7c549663",
   "metadata": {},
   "outputs": [
    {
     "data": {
      "text/plain": [
       "Counter({'a': 6, 'n': 4, 'b': 2, 'd': 1})"
      ]
     },
     "execution_count": 11,
     "metadata": {},
     "output_type": "execute_result"
    }
   ],
   "source": [
    "c = Counter(\"banana\")\n",
    "c.update(\"bandana\")\n",
    "c"
   ]
  },
  {
   "cell_type": "markdown",
   "id": "6176365c-e0fb-40e4-9d26-b193dd8ab225",
   "metadata": {},
   "source": [
    "### Arithmetic With Counters"
   ]
  },
  {
   "cell_type": "code",
   "execution_count": 12,
   "id": "f547b476",
   "metadata": {},
   "outputs": [
    {
     "data": {
      "text/plain": [
       "(Counter({'a': 7,\n",
       "          'b': 3,\n",
       "          'r': 3,\n",
       "          'c': 2,\n",
       "          'd': 1,\n",
       "          'e': 1,\n",
       "          'l': 1,\n",
       "          'o': 1,\n",
       "          'n': 1}),\n",
       " Counter({'a': 3, 'b': 1, 'r': 1, 'd': 1}),\n",
       " Counter({'a': 2, 'b': 1, 'r': 1, 'c': 1}),\n",
       " Counter({'a': 5,\n",
       "          'b': 2,\n",
       "          'r': 2,\n",
       "          'c': 1,\n",
       "          'd': 1,\n",
       "          'e': 1,\n",
       "          'l': 1,\n",
       "          'o': 1,\n",
       "          'n': 1}))"
      ]
     },
     "execution_count": 12,
     "metadata": {},
     "output_type": "execute_result"
    }
   ],
   "source": [
    "a = Counter(\"abracadabra\")\n",
    "b = Counter(\"barcelona\")\n",
    "\n",
    "a_plus_b = a + b          # add counts, negative results are dropped\n",
    "a_minus_b = a - b         # subtract, negatives are dropped\n",
    "a_intersection = a & b    # min counts\n",
    "a_union = a | b           # max counts\n",
    "\n",
    "a_plus_b, a_minus_b, a_intersection, a_union"
   ]
  },
  {
   "cell_type": "markdown",
   "id": "b96da6c9-460e-4c51-9564-0806f404bfa4",
   "metadata": {},
   "source": [
    "### Convert Back To A Regular Dict Or List"
   ]
  },
  {
   "cell_type": "code",
   "execution_count": 13,
   "id": "65098c89",
   "metadata": {},
   "outputs": [
    {
     "data": {
      "text/plain": [
       "({'k': 2, 'i': 2, 'r': 2, 'a': 3, ' ': 2, 'n': 1, 'o': 1, 'v': 1},\n",
       " ['k', 'k', 'i', 'i', 'r', 'r', 'a', 'a', 'a', ' ', ' ', 'n', 'o', 'v'])"
      ]
     },
     "execution_count": 13,
     "metadata": {},
     "output_type": "execute_result"
    }
   ],
   "source": [
    "c = Counter(\"kira kira nova\")\n",
    "dict(c), list(c.elements())[:20]"
   ]
  },
  {
   "cell_type": "markdown",
   "id": "e7a8a0dc-5a58-40dd-bbfb-5536d716c7ca",
   "metadata": {},
   "source": [
    "### What I learned\n",
    "Counter simplifies frequency problems that would usually take many lines with a regular dictionary. The tradeoff is that I still need to normalize my inputs, for example lowercase words and remove punctuation, so that counts are meaningful."
   ]
  },
  {
   "cell_type": "markdown",
   "id": "91366a91-0625-4746-9369-f073d2d891d4",
   "metadata": {},
   "source": [
    "### References"
   ]
  },
  {
   "cell_type": "markdown",
   "id": "693b7cd5-b591-43d8-8052-b5b577c09d6a",
   "metadata": {},
   "source": [
    "- Python docs, collections.Counter"
   ]
  }
 ],
 "metadata": {
  "kernelspec": {
   "display_name": "Python 3 (ipykernel)",
   "language": "python",
   "name": "python3"
  },
  "language_info": {
   "codemirror_mode": {
    "name": "ipython",
    "version": 3
   },
   "file_extension": ".py",
   "mimetype": "text/x-python",
   "name": "python",
   "nbconvert_exporter": "python",
   "pygments_lexer": "ipython3",
   "version": "3.10.11"
  }
 },
 "nbformat": 4,
 "nbformat_minor": 5
}
